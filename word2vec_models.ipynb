{
 "cells": [
  {
   "cell_type": "code",
   "execution_count": 1,
   "metadata": {},
   "outputs": [],
   "source": [
    "import pandas as pd\n",
    "import numpy as np\n",
    "from gensim.models import Word2Vec\n",
    "import multiprocessing\n",
    "from time import time\n",
    "import spacy"
   ]
  },
  {
   "cell_type": "code",
   "execution_count": 3,
   "metadata": {},
   "outputs": [],
   "source": [
    "# df = pd.read_csv('data/articles_categs.csv', index_col=0)\n",
    "df = df[df['categ']=='politics']"
   ]
  },
  {
   "cell_type": "code",
   "execution_count": 4,
   "metadata": {},
   "outputs": [
    {
     "data": {
      "text/html": [
       "<div>\n",
       "<style scoped>\n",
       "    .dataframe tbody tr th:only-of-type {\n",
       "        vertical-align: middle;\n",
       "    }\n",
       "\n",
       "    .dataframe tbody tr th {\n",
       "        vertical-align: top;\n",
       "    }\n",
       "\n",
       "    .dataframe thead th {\n",
       "        text-align: right;\n",
       "    }\n",
       "</style>\n",
       "<table border=\"1\" class=\"dataframe\">\n",
       "  <thead>\n",
       "    <tr style=\"text-align: right;\">\n",
       "      <th></th>\n",
       "      <th>text_final</th>\n",
       "      <th>url</th>\n",
       "      <th>year</th>\n",
       "      <th>categ</th>\n",
       "    </tr>\n",
       "    <tr>\n",
       "      <th>years</th>\n",
       "      <th></th>\n",
       "      <th></th>\n",
       "      <th></th>\n",
       "      <th></th>\n",
       "    </tr>\n",
       "  </thead>\n",
       "  <tbody>\n",
       "    <tr>\n",
       "      <th>1981 - 1984</th>\n",
       "      <td>4744</td>\n",
       "      <td>4744</td>\n",
       "      <td>4744</td>\n",
       "      <td>4744</td>\n",
       "    </tr>\n",
       "    <tr>\n",
       "      <th>1985 - 1988</th>\n",
       "      <td>4870</td>\n",
       "      <td>4870</td>\n",
       "      <td>4870</td>\n",
       "      <td>4870</td>\n",
       "    </tr>\n",
       "    <tr>\n",
       "      <th>1989 - 1992</th>\n",
       "      <td>3555</td>\n",
       "      <td>3555</td>\n",
       "      <td>3555</td>\n",
       "      <td>3555</td>\n",
       "    </tr>\n",
       "    <tr>\n",
       "      <th>1993 - 1996</th>\n",
       "      <td>5969</td>\n",
       "      <td>5969</td>\n",
       "      <td>5969</td>\n",
       "      <td>5969</td>\n",
       "    </tr>\n",
       "    <tr>\n",
       "      <th>1997 - 2000</th>\n",
       "      <td>4417</td>\n",
       "      <td>4417</td>\n",
       "      <td>4417</td>\n",
       "      <td>4417</td>\n",
       "    </tr>\n",
       "    <tr>\n",
       "      <th>2001 - 2004</th>\n",
       "      <td>4811</td>\n",
       "      <td>4811</td>\n",
       "      <td>4811</td>\n",
       "      <td>4811</td>\n",
       "    </tr>\n",
       "    <tr>\n",
       "      <th>2005 - 2008</th>\n",
       "      <td>3632</td>\n",
       "      <td>3632</td>\n",
       "      <td>3632</td>\n",
       "      <td>3632</td>\n",
       "    </tr>\n",
       "    <tr>\n",
       "      <th>2009 - 2012</th>\n",
       "      <td>3175</td>\n",
       "      <td>3175</td>\n",
       "      <td>3175</td>\n",
       "      <td>3175</td>\n",
       "    </tr>\n",
       "    <tr>\n",
       "      <th>2013 - 2016</th>\n",
       "      <td>1173</td>\n",
       "      <td>1173</td>\n",
       "      <td>1173</td>\n",
       "      <td>1173</td>\n",
       "    </tr>\n",
       "  </tbody>\n",
       "</table>\n",
       "</div>"
      ],
      "text/plain": [
       "             text_final   url  year  categ\n",
       "years                                     \n",
       "1981 - 1984        4744  4744  4744   4744\n",
       "1985 - 1988        4870  4870  4870   4870\n",
       "1989 - 1992        3555  3555  3555   3555\n",
       "1993 - 1996        5969  5969  5969   5969\n",
       "1997 - 2000        4417  4417  4417   4417\n",
       "2001 - 2004        4811  4811  4811   4811\n",
       "2005 - 2008        3632  3632  3632   3632\n",
       "2009 - 2012        3175  3175  3175   3175\n",
       "2013 - 2016        1173  1173  1173   1173"
      ]
     },
     "execution_count": 4,
     "metadata": {},
     "output_type": "execute_result"
    }
   ],
   "source": [
    "df.groupby('years').count()"
   ]
  },
  {
   "cell_type": "code",
   "execution_count": 5,
   "metadata": {},
   "outputs": [
    {
     "data": {
      "text/html": [
       "<div>\n",
       "<style scoped>\n",
       "    .dataframe tbody tr th:only-of-type {\n",
       "        vertical-align: middle;\n",
       "    }\n",
       "\n",
       "    .dataframe tbody tr th {\n",
       "        vertical-align: top;\n",
       "    }\n",
       "\n",
       "    .dataframe thead th {\n",
       "        text-align: right;\n",
       "    }\n",
       "</style>\n",
       "<table border=\"1\" class=\"dataframe\">\n",
       "  <thead>\n",
       "    <tr style=\"text-align: right;\">\n",
       "      <th></th>\n",
       "      <th>years</th>\n",
       "      <th>text_final</th>\n",
       "      <th>url</th>\n",
       "      <th>year</th>\n",
       "      <th>categ</th>\n",
       "    </tr>\n",
       "  </thead>\n",
       "  <tbody>\n",
       "    <tr>\n",
       "      <th>0</th>\n",
       "      <td>1981 - 1984</td>\n",
       "      <td>Senate Republican leader tell White House offi...</td>\n",
       "      <td>https://www.nytimes.com/1981/10/17/us/gop-sena...</td>\n",
       "      <td>1981</td>\n",
       "      <td>politics</td>\n",
       "    </tr>\n",
       "    <tr>\n",
       "      <th>1</th>\n",
       "      <td>1981 - 1984</td>\n",
       "      <td>House Senate conferee today kill Senate - appr...</td>\n",
       "      <td>https://www.nytimes.com/1981/07/22/us/conferee...</td>\n",
       "      <td>1981</td>\n",
       "      <td>politics</td>\n",
       "    </tr>\n",
       "    <tr>\n",
       "      <th>2</th>\n",
       "      <td>1981 - 1984</td>\n",
       "      <td>Senator Bob Dole , chairman tax - write Senate...</td>\n",
       "      <td>https://www.nytimes.com/1983/02/18/business/do...</td>\n",
       "      <td>1983</td>\n",
       "      <td>politics</td>\n",
       "    </tr>\n",
       "    <tr>\n",
       "      <th>3</th>\n",
       "      <td>1981 - 1984</td>\n",
       "      <td>1981 tax act draw fire provision allow company...</td>\n",
       "      <td>https://www.nytimes.com/1982/09/10/business/th...</td>\n",
       "      <td>1982</td>\n",
       "      <td>politics</td>\n",
       "    </tr>\n",
       "    <tr>\n",
       "      <th>4</th>\n",
       "      <td>1981 - 1984</td>\n",
       "      <td>Reagan Administration today forward 20-year_PO...</td>\n",
       "      <td>https://www.nytimes.com/1982/01/29/us/revampin...</td>\n",
       "      <td>1982</td>\n",
       "      <td>politics</td>\n",
       "    </tr>\n",
       "  </tbody>\n",
       "</table>\n",
       "</div>"
      ],
      "text/plain": [
       "         years                                         text_final  \\\n",
       "0  1981 - 1984  Senate Republican leader tell White House offi...   \n",
       "1  1981 - 1984  House Senate conferee today kill Senate - appr...   \n",
       "2  1981 - 1984  Senator Bob Dole , chairman tax - write Senate...   \n",
       "3  1981 - 1984  1981 tax act draw fire provision allow company...   \n",
       "4  1981 - 1984  Reagan Administration today forward 20-year_PO...   \n",
       "\n",
       "                                                 url  year     categ  \n",
       "0  https://www.nytimes.com/1981/10/17/us/gop-sena...  1981  politics  \n",
       "1  https://www.nytimes.com/1981/07/22/us/conferee...  1981  politics  \n",
       "2  https://www.nytimes.com/1983/02/18/business/do...  1983  politics  \n",
       "3  https://www.nytimes.com/1982/09/10/business/th...  1982  politics  \n",
       "4  https://www.nytimes.com/1982/01/29/us/revampin...  1982  politics  "
      ]
     },
     "execution_count": 5,
     "metadata": {},
     "output_type": "execute_result"
    }
   ],
   "source": [
    "df.head()"
   ]
  },
  {
   "cell_type": "code",
   "execution_count": 6,
   "metadata": {},
   "outputs": [],
   "source": [
    "def preprocess_text(df, window=10):\n",
    "    '''Takes all text from dataframe and returns word2vec model for each topic'''    \n",
    "    final_text = {}\n",
    "    intervals = df.years.unique()\n",
    "    nlp = spacy.load(\"en_core_web_sm\")\n",
    "    for interval in intervals:\n",
    "        t0=time()\n",
    "        final_sentences = []\n",
    "        temp_df = df[df['years']==interval]\n",
    "        for i in range(temp_df.shape[0]):\n",
    "            processed_text = nlp(temp_df['text_final'].iloc[i])\n",
    "            for sent in processed_text.sents:\n",
    "                curr_sentence = [token.text for token in sent if token.pos_!='PUNCT']\n",
    "                if len(curr_sentence)>2:\n",
    "                    final_sentences.append(curr_sentence)\n",
    "            \n",
    "            final_text[interval] = final_sentences            \n",
    "        print(\"done with %s categ in %0.3fs.\" % (interval, time() - t0))\n",
    "    return final_text"
   ]
  },
  {
   "cell_type": "code",
   "execution_count": 7,
   "metadata": {},
   "outputs": [
    {
     "name": "stdout",
     "output_type": "stream",
     "text": [
      "done with 1981 - 1984 categ in 432.009s.\n",
      "done with 1989 - 1992 categ in 364.067s.\n",
      "done with 1993 - 1996 categ in 728.934s.\n",
      "done with 2009 - 2012 categ in 354.069s.\n",
      "done with 2013 - 2016 categ in 141.184s.\n",
      "done with 1997 - 2000 categ in 512.403s.\n",
      "done with 2005 - 2008 categ in 417.873s.\n",
      "done with 1985 - 1988 categ in 480.198s.\n",
      "done with 2001 - 2004 categ in 541.974s.\n"
     ]
    }
   ],
   "source": [
    "processed_text = preprocess_text(df)"
   ]
  },
  {
   "cell_type": "code",
   "execution_count": 8,
   "metadata": {},
   "outputs": [],
   "source": [
    "import pickle\n",
    "\n",
    "with open('data/wordvec_text.pickle', 'wb') as f:\n",
    "    pickle.dump(processed_text, f)\n"
   ]
  },
  {
   "cell_type": "code",
   "execution_count": 9,
   "metadata": {
    "scrolled": false
   },
   "outputs": [],
   "source": [
    "def word2vec_models(final_text, window=10):\n",
    "    final_models={}\n",
    "    for interval, text in final_text.items():\n",
    "        t0=time()\n",
    "        attributes_model = Word2Vec(sentences=text,\n",
    "                                    workers=multiprocessing.cpu_count() - 1, # use all cores\n",
    "                                    window=window, sg=1)\n",
    "        final_models[interval] = attributes_model\n",
    "        print(\"done with %s categ in %0.3fs.\" % (interval, time() - t0))\n",
    "    return final_models"
   ]
  },
  {
   "cell_type": "code",
   "execution_count": 10,
   "metadata": {
    "scrolled": true
   },
   "outputs": [
    {
     "name": "stdout",
     "output_type": "stream",
     "text": [
      "done with 1981 - 1984 categ in 23.066s.\n",
      "done with 1989 - 1992 categ in 19.664s.\n",
      "done with 1993 - 1996 categ in 35.089s.\n",
      "done with 2009 - 2012 categ in 18.405s.\n",
      "done with 2013 - 2016 categ in 6.610s.\n",
      "done with 1997 - 2000 categ in 27.689s.\n",
      "done with 2005 - 2008 categ in 22.756s.\n",
      "done with 1985 - 1988 categ in 25.174s.\n",
      "done with 2001 - 2004 categ in 29.842s.\n"
     ]
    }
   ],
   "source": [
    "models = word2vec_models(processed_text)"
   ]
  },
  {
   "cell_type": "code",
   "execution_count": 13,
   "metadata": {},
   "outputs": [],
   "source": [
    "with open('data/wordvec_models.pickle', 'wb') as f:\n",
    "    pickle.dump(models, f)"
   ]
  }
 ],
 "metadata": {
  "kernelspec": {
   "display_name": "Python [conda env:nlp]",
   "language": "python",
   "name": "conda-env-nlp-py"
  },
  "language_info": {
   "codemirror_mode": {
    "name": "ipython",
    "version": 3
   },
   "file_extension": ".py",
   "mimetype": "text/x-python",
   "name": "python",
   "nbconvert_exporter": "python",
   "pygments_lexer": "ipython3",
   "version": "3.7.3"
  }
 },
 "nbformat": 4,
 "nbformat_minor": 2
}
