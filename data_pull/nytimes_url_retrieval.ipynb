{
 "cells": [
  {
   "cell_type": "markdown",
   "metadata": {},
   "source": [
    "### NY Times url retrieval\n",
    "First step to obtaining the full text of every front page article is to pull the url of these articles using the NY Times API\n"
   ]
  },
  {
   "cell_type": "code",
   "execution_count": 1,
   "metadata": {},
   "outputs": [],
   "source": [
    "from urllib import request\n",
    "import os\n",
    "from pandas.io.json import json_normalize\n",
    "import pandas as pd\n",
    "import json\n",
    "import time"
   ]
  },
  {
   "cell_type": "code",
   "execution_count": 2,
   "metadata": {
    "scrolled": true
   },
   "outputs": [],
   "source": [
    "api_key = os.environ['nytimes_api']\n",
    "\n",
    "df = pd.DataFrame()\n",
    "for year in range(1980, 2019):\n",
    "    for month in range(1,13):\n",
    "        print(year, month)\n",
    "        curr_request = f'https://api.nytimes.com/svc/archive/v1/{year}/{month}.json?api-key={api_key}'\n",
    "        contents = request.urlopen(curr_request).read()\n",
    "        json_data = json.loads(contents)\n",
    "        curr_df = json_normalize(json_data['response']['docs'])\n",
    "        df = df.append(curr_df[curr_df['print_page'].astype(str)=='1']).reset_index(drop = True)\n",
    "        time.sleep(6) #required by api"
   ]
  },
  {
   "cell_type": "code",
   "execution_count": 3,
   "metadata": {},
   "outputs": [],
   "source": [
    "cols = ['headline.main','pub_date','print_page','section_name','web_url']"
   ]
  },
  {
   "cell_type": "code",
   "execution_count": 4,
   "metadata": {},
   "outputs": [],
   "source": [
    "df['date_time'] = pd.to_datetime(df['pub_date'].str[:10])"
   ]
  },
  {
   "cell_type": "code",
   "execution_count": 5,
   "metadata": {},
   "outputs": [],
   "source": [
    "df[cols].to_csv('data/articles.csv')"
   ]
  },
  {
   "cell_type": "code",
   "execution_count": null,
   "metadata": {},
   "outputs": [],
   "source": []
  }
 ],
 "metadata": {
  "kernelspec": {
   "display_name": "Python 3",
   "language": "python",
   "name": "python3"
  },
  "language_info": {
   "codemirror_mode": {
    "name": "ipython",
    "version": 3
   },
   "file_extension": ".py",
   "mimetype": "text/x-python",
   "name": "python",
   "nbconvert_exporter": "python",
   "pygments_lexer": "ipython3",
   "version": "3.6.7"
  }
 },
 "nbformat": 4,
 "nbformat_minor": 2
}
