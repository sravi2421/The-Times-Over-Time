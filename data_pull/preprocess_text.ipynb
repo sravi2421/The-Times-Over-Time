{
 "cells": [
  {
   "cell_type": "markdown",
   "metadata": {},
   "source": [
    "### Preprocess Text\n",
    "The text in the articles need to be preprocessed prior to analysis. The three primary components of preprocessing are:<br>\n",
    "\n",
    "1. removing stop words\n",
    "2. lemmatizing words (standardizing words to their root)\n",
    "3. include part of speech tagging (\"POS\")\n",
    "\n",
    "Eventually, we will be passing articles through a Word2Vec model which will generate word associations, by tagging the parts of speech right now, we will be able to identify which descriptors were most associted to a particular word or pronoun. This process is computationally very expensive since you are looping through each word of each article, and so we use Dask to parallelize the tasks"
   ]
  },
  {
   "cell_type": "markdown",
   "metadata": {},
   "source": [
    "### Preprocess Text"
   ]
  },
  {
   "cell_type": "code",
   "execution_count": 1,
   "metadata": {},
   "outputs": [],
   "source": [
    "import pandas as pd\n",
    "import spacy\n",
    "import dask.dataframe as dd\n",
    "from dask.multiprocessing import get\n",
    "from data_pull_helpers import preprocess_text"
   ]
  },
  {
   "cell_type": "code",
   "execution_count": 2,
   "metadata": {},
   "outputs": [],
   "source": [
    "df = pd.read_json('/Users/surajravi/src/git/scrapy/tutorial/articles_87_99.json')"
   ]
  },
  {
   "cell_type": "code",
   "execution_count": 3,
   "metadata": {},
   "outputs": [
    {
     "data": {
      "text/plain": [
       "(113158, 4)"
      ]
     },
     "execution_count": 3,
     "metadata": {},
     "output_type": "execute_result"
    }
   ],
   "source": [
    "df.shape"
   ]
  },
  {
   "cell_type": "markdown",
   "metadata": {},
   "source": [
    "## Read in all data, and merge articles into one dataframe"
   ]
  },
  {
   "cell_type": "code",
   "execution_count": 4,
   "metadata": {},
   "outputs": [],
   "source": [
    "import sys\n",
    "sys.path.append('/Users/surajravi/src/git')\n",
    "from helpers.plot_wrappers import plt_histn\n",
    "\n",
    "%matplotlib inline"
   ]
  },
  {
   "cell_type": "code",
   "execution_count": 5,
   "metadata": {},
   "outputs": [
    {
     "name": "stdout",
     "output_type": "stream",
     "text": [
      "-----------article 0 459 characters-----------\n",
      "Wider Audience for Cuomo  Governor Cuomo, widely regarded as a possible Presidential candidate, said he would travel to five states in the next few months. Page 29.  Canadian Trade Anger  Canadian industry condemned an export tax being imposed to settle a dispute with the United States over lumber trade. Page 41.  Esquire Is Sold  Hearst has bought Esquire, the monthly magazine that has revived itself in recent years. The price was not announced. Page 43.\n",
      "-----------article 28 161 characters-----------\n",
      "Afghan Cease-Fire Plan  Afghanistan's Government announced that starting Jan. 15 it would observe a cease-fire, but guerrilla reaction seemed negative. Page A10.\n",
      "-----------article 40 167 characters-----------\n",
      "Penn State Is No. 1  Penn State halted a late Miami drive to win the Sunkist Fiesta Bowl, 14-10, and the unofficial national championship in college football. Page 41.\n",
      "-----------article 53 189 characters-----------\n",
      "The Istanbul Massacre  A six-week investigation into the killing last September of 22 Jews in a synagogue links a terrorist coalition to three Arab governments. The New York Times Magazine.\n",
      "-----------article 80 334 characters-----------\n",
      "Cuomo Picks a Judge  Governor Cuomo has picked Joseph W. Bellacosa, a friend and the state's chief administrative judge, to fill a Court of Appeals vacancy. Page B1.  Mystery of Howard Beach Sixteen days after the death of a black man in Queens, the night's events are still being sorted out amid confusion and contradiction. Page B1.\n"
     ]
    }
   ],
   "source": [
    "for ii in df[df.article_text.str.len()<500].index[:5]:\n",
    "    length = len(df.loc[ii,'article_text'])\n",
    "    print(f'-----------article {ii} {length} characters-----------')\n",
    "    print(df.loc[ii, 'article_text'])"
   ]
  },
  {
   "cell_type": "code",
   "execution_count": 6,
   "metadata": {},
   "outputs": [],
   "source": [
    "df = (\n",
    "    df[(df.title!='INSIDE')\n",
    "       &(df.title!='Inside') #These are articles which just preview whats on the inside of the paper\n",
    "       &(df.article_text.str.len()>500)]   #These are articles which are short summaries (see above)\n",
    "    .reset_index(drop=True)\n",
    ")"
   ]
  },
  {
   "cell_type": "code",
   "execution_count": 7,
   "metadata": {},
   "outputs": [
    {
     "data": {
      "image/png": "[encoded data removed]",
      "text/plain": [
       "<Figure size 1296x576 with 4 Axes>"
      ]
     },
     "metadata": {
      "needs_background": "light"
     },
     "output_type": "display_data"
    }
   ],
   "source": [
    "article_lengths = df.article_text.str.len()\n",
    "plt_histn(article_lengths,\n",
    "         'Articles Lengths', \n",
    "          article_lengths[article_lengths<5000],\n",
    "         'Articles Lengths - Articles Less Than 5000 Characters',\n",
    "          article_lengths[article_lengths<2000],\n",
    "         'Articles Lengths - Articles Less Than 2000 Characters',\n",
    "         article_lengths[article_lengths<500],\n",
    "         'Articles Lengths - Articles Less Than 500 Characters',\n",
    "          bins = 50\n",
    "         )"
   ]
  },
  {
   "cell_type": "markdown",
   "metadata": {},
   "source": [
    "## Preprocess"
   ]
  },
  {
   "cell_type": "code",
   "execution_count": 8,
   "metadata": {},
   "outputs": [],
   "source": [
    "ddata = dd.from_pandas(df, npartitions=12)\n",
    "def apply_myfunc_to_DF(df): return df['article_text'].apply(preprocess_text)\n",
    "def dask_apply(ddata): return (ddata\n",
    "                               .map_partitions(apply_myfunc_to_DF)\n",
    "                               .compute(scheduler='processes'))\n",
    "ddata['text_final'] = dask_apply(ddata)"
   ]
  },
  {
   "cell_type": "code",
   "execution_count": 9,
   "metadata": {},
   "outputs": [
    {
     "name": "stderr",
     "output_type": "stream",
     "text": [
      "/anaconda3/envs/nlp/lib/python3.7/site-packages/pyarrow/pandas_compat.py:114: FutureWarning: A future version of pandas will default to `skipna=True`. To silence this warning, pass `skipna=True|False` explicitly.\n",
      "  result = infer_dtype(pandas_collection)\n"
     ]
    }
   ],
   "source": [
    "ddata.to_parquet('data/articles_preprocessed_87_99.parquet', engine = 'pyarrow')"
   ]
  }
 ],
 "metadata": {
  "kernelspec": {
   "display_name": "Python (nlp)",
   "language": "python",
   "name": "nlp"
  },
  "language_info": {
   "codemirror_mode": {
    "name": "ipython",
    "version": 3
   },
   "file_extension": ".py",
   "mimetype": "text/x-python",
   "name": "python",
   "nbconvert_exporter": "python",
   "pygments_lexer": "ipython3",
   "version": "3.7.3"
  }
 },
 "nbformat": 4,
 "nbformat_minor": 2
}
